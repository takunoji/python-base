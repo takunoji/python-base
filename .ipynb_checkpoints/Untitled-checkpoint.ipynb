{
 "cells": [
  {
   "cell_type": "code",
   "execution_count": 1,
   "metadata": {},
   "outputs": [
    {
     "data": {
      "text/plain": [
       "3"
      ]
     },
     "execution_count": 1,
     "metadata": {},
     "output_type": "execute_result"
    }
   ],
   "source": [
    "3"
   ]
  },
  {
   "cell_type": "code",
   "execution_count": 2,
   "metadata": {},
   "outputs": [
    {
     "name": "stdout",
     "output_type": "stream",
     "text": [
      "Package                 VersionNote: you may need to restart the kernel to use updated packages.\n",
      "----------------------- -------------------\n",
      "absl-py                 0.13.0\n",
      "aiohttp                 3.7.4\n",
      "altair                  4.1.0\n",
      "anyio                   2.2.0\n",
      "argon2-cffi             20.1.0\n",
      "astor                   0.8.1\n",
      "astunparse              1.6.3\n",
      "async-generator         1.10\n",
      "async-timeout           3.0.1\n",
      "attrs                   21.2.0\n",
      "Babel                   2.9.1\n",
      "backcall                0.2.0\n",
      "base58                  2.1.0\n",
      "bleach                  3.3.0\n",
      "blinker                 1.4\n",
      "brotlipy                0.7.0\n",
      "cachetools              4.2.2\n",
      "certifi                 2021.5.30\n",
      "cffi                    1.14.5\n",
      "chardet                 4.0.0\n",
      "click                   7.1.2\n",
      "colorama                0.4.4\n",
      "coverage                5.5\n",
      "cryptography            3.4.7\n",
      "Cython                  0.29.23\n",
      "decorator               5.0.9\n",
      "defusedxml              0.7.1\n",
      "entrypoints             0.3\n",
      "Flask                   2.0.1\n",
      "\n",
      "flatbuffers             1.12\n",
      "flickrapi               2.4.0\n",
      "gast                    0.3.3\n",
      "gitdb                   4.0.7\n",
      "GitPython               3.1.18\n",
      "google-auth             1.32.0\n",
      "google-auth-oauthlib    0.4.4\n",
      "google-pasta            0.2.0\n",
      "grpcio                  1.36.1\n",
      "h5py                    2.10.0\n",
      "idna                    2.10\n",
      "importlib-metadata      3.10.0\n",
      "ipykernel               5.3.4\n",
      "ipython                 7.22.0\n",
      "ipython-genutils        0.2.0\n",
      "ipywidgets              7.6.3\n",
      "itsdangerous            2.0.1\n",
      "jedi                    0.17.0\n",
      "Jinja2                  3.0.1\n",
      "joblib                  1.0.1\n",
      "json5                   0.9.6\n",
      "jsonschema              3.2.0\n",
      "jupyter-client          6.1.12\n",
      "jupyter-core            4.7.1\n",
      "jupyter-packaging       0.7.12\n",
      "jupyter-server          1.4.1\n",
      "jupyterlab              3.0.14\n",
      "jupyterlab-pygments     0.1.2\n",
      "jupyterlab-server       2.6.1\n",
      "jupyterlab-widgets      1.0.0\n",
      "Keras                   2.4.0\n",
      "Keras-Applications      1.0.8\n",
      "Keras-Preprocessing     1.1.2\n",
      "Markdown                3.3.4\n",
      "MarkupSafe              2.0.1\n",
      "mistune                 0.8.4\n",
      "mkl-fft                 1.3.0\n",
      "mkl-random              1.2.1\n",
      "mkl-service             2.3.0\n",
      "multidict               5.1.0\n",
      "nbclassic               0.2.6\n",
      "nbclient                0.5.3\n",
      "nbconvert               6.1.0\n",
      "nbformat                5.1.3\n",
      "nest-asyncio            1.5.1\n",
      "notebook                6.4.0\n",
      "numpy                   1.18.5\n",
      "oauthlib                3.1.1\n",
      "opt-einsum              3.3.0\n",
      "packaging               20.9\n",
      "pandas                  1.3.0\n",
      "pandocfilters           1.4.3\n",
      "parso                   0.8.2\n",
      "pickleshare             0.7.5\n",
      "Pillow                  8.2.0\n",
      "pip                     21.1.3\n",
      "prometheus-client       0.11.0\n",
      "prompt-toolkit          3.0.17\n",
      "protobuf                3.17.3\n",
      "pyarrow                 4.0.1\n",
      "pyasn1                  0.4.8\n",
      "pyasn1-modules          0.2.8\n",
      "pycparser               2.20\n",
      "pydeck                  0.6.2\n",
      "Pygments                2.9.0\n",
      "PyJWT                   1.7.1\n",
      "pyOpenSSL               20.0.1\n",
      "pyparsing               2.4.7\n",
      "pyreadline              2.1\n",
      "pyrsistent              0.17.3\n",
      "PySocks                 1.7.1\n",
      "python-dateutil         2.8.1\n",
      "pytz                    2021.1\n",
      "pywin32                 227\n",
      "pywinpty                0.5.7\n",
      "PyYAML                  5.4.1\n",
      "pyzmq                   20.0.0\n",
      "requests                2.25.1\n",
      "requests-oauthlib       1.3.0\n",
      "requests-toolbelt       0.9.1\n",
      "rsa                     4.7.2\n",
      "scikit-learn            0.24.2\n",
      "scipy                   1.4.1\n",
      "Send2Trash              1.5.0\n",
      "setuptools              52.0.0.post20210125\n",
      "six                     1.16.0\n",
      "sklearn                 0.0\n",
      "smmap                   4.0.0\n",
      "sniffio                 1.2.0\n",
      "streamlit               0.85.1\n",
      "tensorboard             2.5.0\n",
      "tensorboard-data-server 0.6.1\n",
      "tensorboard-plugin-wit  1.8.0\n",
      "tensorflow              2.3.0\n",
      "tensorflow-estimator    2.3.0\n",
      "termcolor               1.1.0\n",
      "terminado               0.9.4\n",
      "testpath                0.5.0\n",
      "threadpoolctl           2.1.0\n",
      "toml                    0.10.2\n",
      "toolz                   0.11.1\n",
      "tornado                 6.1\n",
      "traitlets               5.0.5\n",
      "typing-extensions       3.10.0.0\n",
      "tzlocal                 2.1\n",
      "urllib3                 1.26.6\n",
      "validators              0.18.2\n",
      "watchdog                2.1.3\n",
      "wcwidth                 0.2.5\n",
      "webencodings            0.5.1\n",
      "Werkzeug                2.0.1\n",
      "wheel                   0.36.2\n",
      "widgetsnbextension      3.5.1\n",
      "win-inet-pton           1.1.0\n",
      "wincertstore            0.2\n",
      "wrapt                   1.12.1\n",
      "yarl                    1.6.3\n",
      "zipp                    3.5.0\n"
     ]
    }
   ],
   "source": [
    "pip list"
   ]
  },
  {
   "cell_type": "code",
   "execution_count": 3,
   "metadata": {},
   "outputs": [
    {
     "name": "stdout",
     "output_type": "stream",
     "text": [
      "# packages in environment at C:\\Users\\takuc\\anaconda3\\envs\\tf250:\n",
      "#\n",
      "# Name                    Version                   Build  Channel\n",
      "_tflow_select             2.3.0                       gpu  \n",
      "absl-py                   0.13.0           py38haa95532_0  \n",
      "aiohttp                   3.7.4            py38h2bbff1b_1  \n",
      "altair                    4.1.0                    pypi_0    pypi\n",
      "anyio                     2.2.0            py38haa95532_2  \n",
      "argon2-cffi               20.1.0           py38h2bbff1b_1  \n",
      "astor                     0.8.1            py38haa95532_0  \n",
      "astunparse                1.6.3                      py_0  \n",
      "async-timeout             3.0.1            py38haa95532_0  \n",
      "async_generator           1.10               pyhd3eb1b0_0  \n",
      "attrs                     21.2.0             pyhd3eb1b0_0  \n",
      "babel                     2.9.1              pyhd3eb1b0_0  \n",
      "backcall                  0.2.0              pyhd3eb1b0_0  \n",
      "base58                    2.1.0                    pypi_0    pypi\n",
      "blas                      1.0                         mkl  \n",
      "bleach                    3.3.0              pyhd3eb1b0_0  \n",
      "blinker                   1.4              py38haa95532_0  \n",
      "brotlipy                  0.7.0           py38h2bbff1b_1003  \n",
      "ca-certificates           2021.7.5             haa95532_1  \n",
      "cachetools                4.2.2              pyhd3eb1b0_0  \n",
      "certifi                   2021.5.30        py38haa95532_0  \n",
      "cffi                      1.14.5           py38hcd4344a_0  \n",
      "chardet                   4.0.0                    pypi_0    pypi\n",
      "click                     7.1.2                    pypi_0    pypi\n",
      "colorama                  0.4.4              pyhd3eb1b0_0  \n",
      "coverage                  5.5              py38h2bbff1b_2  \n",
      "cryptography              3.4.7            py38h71e12ea_0  \n",
      "cython                    0.29.23          py38hd77b12b_0  \n",
      "decorator                 5.0.9              pyhd3eb1b0_0  \n",
      "defusedxml                0.7.1              pyhd3eb1b0_0  \n",
      "entrypoints               0.3                      py38_0  \n",
      "flask                     2.0.1                    pypi_0    pypi\n",
      "flatbuffers               1.12                     pypi_0    pypi\n",
      "flickrapi                 2.4.0                    pypi_0    pypi\n",
      "gast                      0.3.3                    pypi_0    pypi\n",
      "gitdb                     4.0.7                    pypi_0    pypi\n",
      "gitpython                 3.1.18                   pypi_0    pypi\n",
      "google-auth               1.31.0                   pypi_0    pypi\n",
      "google-auth-oauthlib      0.4.4              pyhd3eb1b0_0  \n",
      "google-pasta              0.2.0                      py_0  \n",
      "grpcio                    1.34.1                   pypi_0    pypi\n",
      "h5py                      2.10.0           py38h5e291fa_0  \n",
      "hdf5                      1.10.4               h7ebc959_0  \n",
      "icc_rt                    2019.0.0             h0cc432a_1  \n",
      "idna                      2.10               pyhd3eb1b0_0  \n",
      "importlib-metadata        3.10.0           py38haa95532_0  \n",
      "importlib_metadata        3.10.0               hd3eb1b0_0  \n",
      "intel-openmp              2021.2.0           haa95532_616  \n",
      "ipykernel                 5.3.4            py38h5ca1d4c_0  \n",
      "ipython                   7.22.0           py38hd4e2768_0  \n",
      "ipython_genutils          0.2.0              pyhd3eb1b0_1  \n",
      "ipywidgets                7.6.3                    pypi_0    pypi\n",
      "itsdangerous              2.0.1                    pypi_0    pypi\n",
      "jedi                      0.17.0                   py38_0  \n",
      "jinja2                    3.0.1              pyhd3eb1b0_0  \n",
      "joblib                    1.0.1                    pypi_0    pypi\n",
      "json5                     0.9.6              pyhd3eb1b0_0  \n",
      "jsonschema                3.2.0                      py_2  \n",
      "jupyter-packaging         0.7.12             pyhd3eb1b0_0  \n",
      "jupyter_client            6.1.12             pyhd3eb1b0_0  \n",
      "jupyter_core              4.7.1            py38haa95532_0  \n",
      "jupyter_server            1.4.1            py38haa95532_0  \n",
      "jupyterlab                3.0.14             pyhd3eb1b0_1  \n",
      "jupyterlab-widgets        1.0.0                    pypi_0    pypi\n",
      "jupyterlab_pygments       0.1.2                      py_0  \n",
      "jupyterlab_server         2.6.1              pyhd3eb1b0_0  \n",
      "keras                     2.4.0                    pypi_0    pypi\n",
      "keras-applications        1.0.8                      py_1  \n",
      "keras-preprocessing       1.1.2              pyhd3eb1b0_0  \n",
      "libprotobuf               3.14.0               h23ce68f_0  \n",
      "libsodium                 1.0.18               h62dcd97_0  \n",
      "m2w64-gcc-libgfortran     5.3.0                         6  \n",
      "m2w64-gcc-libs            5.3.0                         7  \n",
      "m2w64-gcc-libs-core       5.3.0                         7  \n",
      "m2w64-gmp                 6.1.0                         2  \n",
      "m2w64-libwinpthread-git   5.0.0.4634.697f757               2  \n",
      "markdown                  3.3.4            py38haa95532_0  \n",
      "markupsafe                2.0.1            py38h2bbff1b_0  \n",
      "mistune                   0.8.4           py38he774522_1000  \n",
      "mkl                       2021.2.0           haa95532_296  \n",
      "mkl-service               2.3.0            py38h2bbff1b_1  \n",
      "mkl_fft                   1.3.0            py38h277e83a_2  \n",
      "mkl_random                1.2.1            py38hf11a4ad_2  \n",
      "msys2-conda-epoch         20160418                      1  \n",
      "multidict                 5.1.0            py38h2bbff1b_2  \n",
      "nbclassic                 0.2.6              pyhd3eb1b0_0  \n",
      "nbclient                  0.5.3              pyhd3eb1b0_0  \n",
      "nbconvert                 6.1.0            py38haa95532_0  \n",
      "nbformat                  5.1.3              pyhd3eb1b0_0  \n",
      "nest-asyncio              1.5.1              pyhd3eb1b0_0  \n",
      "notebook                  6.4.0            py38haa95532_0  \n",
      "numpy                     1.18.5                   pypi_0    pypi\n",
      "oauthlib                  3.1.1                    pypi_0    pypi\n",
      "openssl                   1.1.1k               h2bbff1b_0  \n",
      "opt_einsum                3.3.0              pyhd3eb1b0_1  \n",
      "packaging                 20.9               pyhd3eb1b0_0  \n",
      "pandas                    1.3.0                    pypi_0    pypi\n",
      "pandocfilters             1.4.3            py38haa95532_1  \n",
      "parso                     0.8.2              pyhd3eb1b0_0  \n",
      "pickleshare               0.7.5           pyhd3eb1b0_1003  \n",
      "pillow                    8.2.0                    pypi_0    pypi\n",
      "pip                       21.1.3           py38haa95532_0  \n",
      "prometheus_client         0.11.0             pyhd3eb1b0_0  \n",
      "prompt-toolkit            3.0.17             pyh06a4308_0  \n",
      "protobuf                  3.17.3                   pypi_0    pypi\n",
      "pyarrow                   4.0.1                    pypi_0    pypi\n",
      "pyasn1                    0.4.8                      py_0  \n",
      "pyasn1-modules            0.2.8                    pypi_0    pypi\n",
      "pycparser                 2.20                       py_2  \n",
      "pydeck                    0.6.2                    pypi_0    pypi\n",
      "pygments                  2.9.0              pyhd3eb1b0_0  \n",
      "pyjwt                     1.7.1                    py38_0  \n",
      "pyopenssl                 20.0.1             pyhd3eb1b0_1  \n",
      "pyparsing                 2.4.7              pyhd3eb1b0_0  \n",
      "pyreadline                2.1                      py38_1  \n",
      "pyrsistent                0.17.3           py38he774522_0  \n",
      "pysocks                   1.7.1            py38haa95532_0  \n",
      "python                    3.8.10               hdbf39b2_7  \n",
      "python-dateutil           2.8.1              pyhd3eb1b0_0  \n",
      "pytz                      2021.1             pyhd3eb1b0_0  \n",
      "pywin32                   227              py38he774522_1  \n",
      "pywinpty                  0.5.7                    py38_0  \n",
      "pyyaml                    5.4.1                    pypi_0    pypi\n",
      "pyzmq                     20.0.0           py38hd77b12b_1  \n",
      "requests                  2.25.1             pyhd3eb1b0_0  \n",
      "requests-oauthlib         1.3.0                      py_0  \n",
      "requests-toolbelt         0.9.1                    pypi_0    pypi\n",
      "rsa                       4.7.2              pyhd3eb1b0_1  \n",
      "scikit-learn              0.24.2                   pypi_0    pypi\n",
      "scipy                     1.4.1                    pypi_0    pypi\n",
      "send2trash                1.5.0              pyhd3eb1b0_1  \n",
      "setuptools                52.0.0           py38haa95532_0  \n",
      "six                       1.15.0                   pypi_0    pypi\n",
      "sklearn                   0.0                      pypi_0    pypi\n",
      "smmap                     4.0.0                    pypi_0    pypi\n",
      "sniffio                   1.2.0            py38haa95532_1  \n",
      "sqlite                    3.36.0               h2bbff1b_0  \n",
      "streamlit                 0.85.1                   pypi_0    pypi\n",
      "tensorboard               2.5.0                    pypi_0    pypi\n",
      "tensorboard-data-server   0.6.1                    pypi_0    pypi\n",
      "tensorboard-plugin-wit    1.8.0                    pypi_0    pypi\n",
      "tensorflow                2.3.0           mkl_py38h8557ec7_0  \n",
      "tensorflow-base           2.3.0           eigen_py38h75a453f_0  \n",
      "tensorflow-estimator      2.3.0                    pypi_0    pypi\n",
      "tensorflow-gpu            2.3.0                he13fc11_0  \n",
      "termcolor                 1.1.0                    pypi_0    pypi\n",
      "terminado                 0.9.4            py38haa95532_0  \n",
      "testpath                  0.5.0              pyhd3eb1b0_0  \n",
      "threadpoolctl             2.1.0                    pypi_0    pypi\n",
      "toml                      0.10.2                   pypi_0    pypi\n",
      "toolz                     0.11.1                   pypi_0    pypi\n",
      "tornado                   6.1              py38h2bbff1b_0  \n",
      "traitlets                 5.0.5              pyhd3eb1b0_0  \n",
      "typing-extensions         3.7.4.3                  pypi_0    pypi\n",
      "typing_extensions         3.10.0.0           pyh06a4308_0  \n",
      "tzlocal                   2.1                      pypi_0    pypi\n",
      "urllib3                   1.26.5                   pypi_0    pypi\n",
      "validators                0.18.2                   pypi_0    pypi\n",
      "vc                        14.2                 h21ff451_1  \n",
      "vs2015_runtime            14.27.29016          h5e58377_2  \n",
      "watchdog                  2.1.3                    pypi_0    pypi\n",
      "wcwidth                   0.2.5                      py_0  \n",
      "webencodings              0.5.1                    py38_1  \n",
      "werkzeug                  2.0.1                    pypi_0    pypi\n",
      "wheel                     0.36.2             pyhd3eb1b0_0  \n",
      "widgetsnbextension        3.5.1                    pypi_0    pypi\n",
      "win_inet_pton             1.1.0            py38haa95532_0  \n",
      "wincertstore              0.2                      py38_0  \n",
      "winpty                    0.4.3                         4  \n",
      "wrapt                     1.12.1           py38he774522_1  \n",
      "yaml                      0.2.5                he774522_0  \n",
      "yarl                      1.6.3            py38h2bbff1b_0  \n",
      "zeromq                    4.3.3                ha925a31_3  \n",
      "zipp                      3.5.0              pyhd3eb1b0_0  \n",
      "zlib                      1.2.11               h62dcd97_4  \n",
      "\n",
      "Note: you may need to restart the kernel to use updated packages.\n"
     ]
    }
   ],
   "source": [
    "conda list"
   ]
  },
  {
   "cell_type": "code",
   "execution_count": 5,
   "metadata": {},
   "outputs": [
    {
     "name": "stdout",
     "output_type": "stream",
     "text": [
      "absl-py @ file:///C:/ci/absl-py_1623867339542/work\n",
      "aiohttp @ file:///C:/ci/aiohttp_1614361024229/work\n",
      "altair==4.1.0\n",
      "anyio @ file:///C:/ci/anyio_1620153418380/work/dist\n",
      "argon2-cffi @ file:///C:/ci/argon2-cffi_1613037959010/work\n",
      "astor==0.8.1\n",
      "astunparse==1.6.3\n",
      "async-generator @ file:///home/ktietz/src/ci/async_generator_1611927993394/work\n",
      "async-timeout==3.0.1\n",
      "attrs @ file:///tmp/build/80754af9/attrs_1620827162558/work\n",
      "Babel @ file:///tmp/build/80754af9/babel_1620871417480/work\n",
      "backcall @ file:///home/ktietz/src/ci/backcall_1611930011877/work\n",
      "base58==2.1.0\n",
      "bleach @ file:///tmp/build/80754af9/bleach_1612211392645/work\n",
      "blinker==1.4\n",
      "brotlipy==0.7.0\n",
      "cachetools @ file:///tmp/build/80754af9/cachetools_1619597386817/work\n",
      "certifi==2021.5.30\n",
      "cffi @ file:///C:/ci/cffi_1613247279197/work\n",
      "chardet==4.0.0\n",
      "click==7.1.2\n",
      "colorama @ file:///tmp/build/80754af9/colorama_1607707115595/work\n",
      "coverage @ file:///C:/ci/coverage_1614615074147/work\n",
      "cryptography @ file:///C:/ci/cryptography_1616769344312/work\n",
      "Cython @ file:///C:/ci/cython_1618435363327/work\n",
      "decorator @ file:///tmp/build/80754af9/decorator_1621259047763/work\n",
      "defusedxml @ file:///tmp/build/80754af9/defusedxml_1615228127516/work\n",
      "entrypoints==0.3\n",
      "Flask==2.0.1\n",
      "flatbuffers==1.12\n",
      "flickrapi==2.4.0\n",
      "gast==0.3.3\n",
      "gitdb==4.0.7\n",
      "GitPython==3.1.18\n",
      "google-auth @ file:///tmp/build/80754af9/google-auth_1624381796952/work\n",
      "google-auth-oauthlib @ file:///tmp/build/80754af9/google-auth-oauthlib_1617120569401/work\n",
      "google-pasta==0.2.0\n",
      "grpcio @ file:///C:/ci/grpcio_1614884412260/work\n",
      "h5py==2.10.0\n",
      "idna @ file:///home/linux1/recipes/ci/idna_1610986105248/work\n",
      "importlib-metadata @ file:///C:/ci/importlib-metadata_1617877484576/work\n",
      "ipykernel @ file:///C:/ci/ipykernel_1596190155316/work/dist/ipykernel-5.3.4-py3-none-any.whl\n",
      "ipython @ file:///C:/ci/ipython_1617121002983/work\n",
      "ipython-genutils @ file:///tmp/build/80754af9/ipython_genutils_1606773439826/work\n",
      "ipywidgets==7.6.3\n",
      "itsdangerous==2.0.1\n",
      "jedi==0.17.0\n",
      "Jinja2 @ file:///tmp/build/80754af9/jinja2_1624781299557/work\n",
      "joblib==1.0.1\n",
      "json5 @ file:///tmp/build/80754af9/json5_1624432770122/work\n",
      "jsonschema @ file:///tmp/build/80754af9/jsonschema_1602607155483/work\n",
      "jupyter-client @ file:///tmp/build/80754af9/jupyter_client_1616770841739/work\n",
      "jupyter-core @ file:///C:/ci/jupyter_core_1612213356021/work\n",
      "jupyter-packaging @ file:///tmp/build/80754af9/jupyter-packaging_1613502826984/work\n",
      "jupyter-server @ file:///C:/ci/jupyter_server_1616084298403/work\n",
      "jupyterlab @ file:///tmp/build/80754af9/jupyterlab_1619133235951/work\n",
      "jupyterlab-pygments @ file:///tmp/build/80754af9/jupyterlab_pygments_1601490720602/work\n",
      "jupyterlab-server @ file:///tmp/build/80754af9/jupyterlab_server_1625823091337/work\n",
      "jupyterlab-widgets==1.0.0\n",
      "Keras==2.4.0\n",
      "Keras-Applications @ file:///tmp/build/80754af9/keras-applications_1594366238411/work\n",
      "Keras-Preprocessing==1.1.2\n",
      "Markdown @ file:///C:/ci/markdown_1614364121613/work\n",
      "MarkupSafe @ file:///C:/ci/markupsafe_1621528314575/work\n",
      "mistune==0.8.4\n",
      "mkl-fft==1.3.0\n",
      "mkl-random @ file:///C:/ci/mkl_random_1618854156666/work\n",
      "mkl-service==2.3.0\n",
      "multidict @ file:///C:/ci/multidict_1607362065515/work\n",
      "nbclassic @ file:///tmp/build/80754af9/nbclassic_1616085367084/work\n",
      "nbclient @ file:///tmp/build/80754af9/nbclient_1614364831625/work\n",
      "nbconvert @ file:///C:/ci/nbconvert_1624479163777/work\n",
      "nbformat @ file:///tmp/build/80754af9/nbformat_1617383369282/work\n",
      "nest-asyncio @ file:///tmp/build/80754af9/nest-asyncio_1613680548246/work\n",
      "notebook @ file:///C:/ci/notebook_1621528634641/work\n",
      "numpy==1.18.5\n",
      "oauthlib==3.1.1\n",
      "opt-einsum @ file:///tmp/build/80754af9/opt_einsum_1621500238896/work\n",
      "packaging @ file:///tmp/build/80754af9/packaging_1611952188834/work\n",
      "pandas==1.3.0\n",
      "pandocfilters @ file:///C:/ci/pandocfilters_1605102497129/work\n",
      "parso @ file:///tmp/build/80754af9/parso_1617223946239/work\n",
      "pickleshare @ file:///tmp/build/80754af9/pickleshare_1606932040724/work\n",
      "Pillow==8.2.0\n",
      "prometheus-client @ file:///tmp/build/80754af9/prometheus_client_1623189609245/work\n",
      "prompt-toolkit @ file:///tmp/build/80754af9/prompt-toolkit_1616415428029/work\n",
      "protobuf==3.17.3\n",
      "pyarrow==4.0.1\n",
      "pyasn1==0.4.8\n",
      "pyasn1-modules==0.2.8\n",
      "pycparser @ file:///tmp/build/80754af9/pycparser_1594388511720/work\n",
      "pydeck==0.6.2\n",
      "Pygments @ file:///tmp/build/80754af9/pygments_1621606182707/work\n",
      "PyJWT==1.7.1\n",
      "pyOpenSSL @ file:///tmp/build/80754af9/pyopenssl_1608057966937/work\n",
      "pyparsing @ file:///home/linux1/recipes/ci/pyparsing_1610983426697/work\n",
      "pyreadline==2.1\n",
      "pyrsistent @ file:///C:/ci/pyrsistent_1600141795814/work\n",
      "PySocks @ file:///C:/ci/pysocks_1605287845585/work\n",
      "python-dateutil @ file:///home/ktietz/src/ci/python-dateutil_1611928101742/work\n",
      "pytz @ file:///tmp/build/80754af9/pytz_1612215392582/work\n",
      "pywin32==227\n",
      "pywinpty==0.5.7\n",
      "PyYAML==5.4.1\n",
      "pyzmq==20.0.0\n",
      "requests @ file:///tmp/build/80754af9/requests_1608241421344/work\n",
      "requests-oauthlib==1.3.0\n",
      "requests-toolbelt==0.9.1\n",
      "rsa @ file:///tmp/build/80754af9/rsa_1614366226499/work\n",
      "scikit-learn==0.24.2\n",
      "scipy==1.4.1\n",
      "Send2Trash @ file:///tmp/build/80754af9/send2trash_1607525499227/work\n",
      "six @ file:///tmp/build/80754af9/six_1623709665295/work\n",
      "sklearn==0.0\n",
      "smmap==4.0.0\n",
      "sniffio @ file:///C:/ci/sniffio_1614030707456/work\n",
      "streamlit==0.85.1\n",
      "tensorboard==2.5.0\n",
      "tensorboard-data-server==0.6.1\n",
      "tensorboard-plugin-wit==1.8.0\n",
      "tensorflow==2.3.0\n",
      "tensorflow-estimator==2.3.0\n",
      "termcolor==1.1.0\n",
      "terminado==0.9.4\n",
      "testpath @ file:///tmp/build/80754af9/testpath_1624638946665/work\n",
      "threadpoolctl==2.1.0\n",
      "toml==0.10.2\n",
      "toolz==0.11.1\n",
      "tornado @ file:///C:/ci/tornado_1606942392901/work\n",
      "traitlets @ file:///home/ktietz/src/ci/traitlets_1611929699868/work\n",
      "typing-extensions @ file:///tmp/build/80754af9/typing_extensions_1624965014186/work\n",
      "tzlocal==2.1\n",
      "urllib3 @ file:///tmp/build/80754af9/urllib3_1625084269274/work\n",
      "validators==0.18.2\n",
      "watchdog==2.1.3\n",
      "wcwidth @ file:///tmp/build/80754af9/wcwidth_1593447189090/work\n",
      "webencodings==0.5.1\n",
      "Werkzeug==2.0.1\n",
      "widgetsnbextension==3.5.1\n",
      "win-inet-pton @ file:///C:/ci/win_inet_pton_1605306167264/work\n",
      "wincertstore==0.2\n",
      "wrapt==1.12.1\n",
      "yarl @ file:///C:/ci/yarl_1606940076464/work\n",
      "zipp @ file:///tmp/build/80754af9/zipp_1625570634446/work\n"
     ]
    }
   ],
   "source": [
    "!pip3 freeze"
   ]
  },
  {
   "cell_type": "code",
   "execution_count": 6,
   "metadata": {},
   "outputs": [
    {
     "data": {
      "text/plain": [
       "'私はTsujiです。出身は北海道です'"
      ]
     },
     "execution_count": 6,
     "metadata": {},
     "output_type": "execute_result"
    }
   ],
   "source": [
    "name = 'Tsuji'\n",
    "birthplace = '北海道'\n",
    "\n",
    "'私は{}です。出身は{}です'.format(name,birthplace)\n"
   ]
  },
  {
   "cell_type": "code",
   "execution_count": 7,
   "metadata": {},
   "outputs": [
    {
     "data": {
      "text/plain": [
       "'私はTsujiです。出身は北海道です'"
      ]
     },
     "execution_count": 7,
     "metadata": {},
     "output_type": "execute_result"
    }
   ],
   "source": [
    "f'私は{name}です。出身は{birthplace}です'\n"
   ]
  },
  {
   "cell_type": "code",
   "execution_count": 9,
   "metadata": {},
   "outputs": [
    {
     "name": "stdout",
     "output_type": "stream",
     "text": [
      "いつもの帰り道とは違うルートで帰ってみようかな。\n",
      "迷子にならないか心配だけど\n"
     ]
    }
   ],
   "source": [
    "print('いつもの帰り道とは違うルートで帰ってみようかな。\\n迷子にならないか心配だけど')"
   ]
  },
  {
   "cell_type": "code",
   "execution_count": 11,
   "metadata": {},
   "outputs": [
    {
     "name": "stdout",
     "output_type": "stream",
     "text": [
      "10進=16, 16進数=10, 10進浮動小数点=16.000000 \n"
     ]
    }
   ],
   "source": [
    "print(\"10進=%d, 16進数=%x, 10進浮動小数点=%f \" % (16,16,16) )"
   ]
  },
  {
   "cell_type": "code",
   "execution_count": 13,
   "metadata": {},
   "outputs": [
    {
     "data": {
      "text/plain": [
       "'HELLO'"
      ]
     },
     "execution_count": 13,
     "metadata": {},
     "output_type": "execute_result"
    }
   ],
   "source": [
    "'hello'.upper()"
   ]
  },
  {
   "cell_type": "code",
   "execution_count": 14,
   "metadata": {},
   "outputs": [
    {
     "data": {
      "text/plain": [
       "'world'"
      ]
     },
     "execution_count": 14,
     "metadata": {},
     "output_type": "execute_result"
    }
   ],
   "source": [
    "'WORLD'.lower()"
   ]
  },
  {
   "cell_type": "code",
   "execution_count": 16,
   "metadata": {},
   "outputs": [
    {
     "name": "stdout",
     "output_type": "stream",
     "text": [
      "こんにちは。\n",
      "私はAIのロボットです\n"
     ]
    }
   ],
   "source": [
    "message = 'こんにちは。\\n私はAIのロボットです'\n",
    "print(message)"
   ]
  },
  {
   "cell_type": "code",
   "execution_count": 17,
   "metadata": {},
   "outputs": [
    {
     "data": {
      "text/plain": [
       "['こんにちは。', '私はAIのロボットです']"
      ]
     },
     "execution_count": 17,
     "metadata": {},
     "output_type": "execute_result"
    }
   ],
   "source": [
    "message.split('\\n')"
   ]
  },
  {
   "cell_type": "code",
   "execution_count": 18,
   "metadata": {},
   "outputs": [
    {
     "data": {
      "text/plain": [
       "['こんにちは。', '私はAIのロボットです']"
      ]
     },
     "execution_count": 18,
     "metadata": {},
     "output_type": "execute_result"
    }
   ],
   "source": [
    "messages = message.split('\\n')\n",
    "messages"
   ]
  },
  {
   "cell_type": "code",
   "execution_count": 19,
   "metadata": {},
   "outputs": [
    {
     "data": {
      "text/plain": [
       "'こんにちは。私はAIのロボットです'"
      ]
     },
     "execution_count": 19,
     "metadata": {},
     "output_type": "execute_result"
    }
   ],
   "source": [
    "''.join(messages)"
   ]
  },
  {
   "cell_type": "code",
   "execution_count": 22,
   "metadata": {},
   "outputs": [
    {
     "name": "stdout",
     "output_type": "stream",
     "text": [
      "いつたべるここのケーキはとても美味しいね\n"
     ]
    }
   ],
   "source": [
    "message = '　　いつたべるここのケーキはとても美味しいね　　'\n",
    "print(message.strip())"
   ]
  },
  {
   "cell_type": "code",
   "execution_count": 23,
   "metadata": {},
   "outputs": [
    {
     "data": {
      "text/plain": [
       "'今日は雨ですね'"
      ]
     },
     "execution_count": 23,
     "metadata": {},
     "output_type": "execute_result"
    }
   ],
   "source": [
    "message = '今日は晴れですね'\n",
    "message.replace('晴れ','雨')"
   ]
  },
  {
   "cell_type": "code",
   "execution_count": 24,
   "metadata": {},
   "outputs": [
    {
     "data": {
      "text/plain": [
       "6"
      ]
     },
     "execution_count": 24,
     "metadata": {},
     "output_type": "execute_result"
    }
   ],
   "source": [
    "message = '今日はとても夜空がきれいだ'\n",
    "message.find('夜空')"
   ]
  },
  {
   "cell_type": "code",
   "execution_count": 28,
   "metadata": {},
   "outputs": [
    {
     "data": {
      "text/plain": [
       "'1'"
      ]
     },
     "execution_count": 28,
     "metadata": {},
     "output_type": "execute_result"
    }
   ],
   "source": [
    "x = 1\n",
    "str(x)"
   ]
  },
  {
   "cell_type": "code",
   "execution_count": 29,
   "metadata": {},
   "outputs": [
    {
     "data": {
      "text/plain": [
       "'1.52'"
      ]
     },
     "execution_count": 29,
     "metadata": {},
     "output_type": "execute_result"
    }
   ],
   "source": [
    "x = 1.52\n",
    "str(x)"
   ]
  },
  {
   "cell_type": "code",
   "execution_count": 30,
   "metadata": {},
   "outputs": [
    {
     "data": {
      "text/plain": [
       "'[1, 2, 3]'"
      ]
     },
     "execution_count": 30,
     "metadata": {},
     "output_type": "execute_result"
    }
   ],
   "source": [
    "x = [1,2,3]\n",
    "str(x   )"
   ]
  },
  {
   "cell_type": "code",
   "execution_count": 32,
   "metadata": {},
   "outputs": [
    {
     "data": {
      "text/plain": [
       "\"{'name': 'join', 'birth': 'US'}\""
      ]
     },
     "execution_count": 32,
     "metadata": {},
     "output_type": "execute_result"
    }
   ],
   "source": [
    "x = dict(name='join', birth='US')\n",
    "str(x)"
   ]
  },
  {
   "cell_type": "code",
   "execution_count": 33,
   "metadata": {},
   "outputs": [],
   "source": [
    "a,b = 'sba','gasba'"
   ]
  },
  {
   "cell_type": "code",
   "execution_count": 34,
   "metadata": {},
   "outputs": [
    {
     "data": {
      "text/plain": [
       "True"
      ]
     },
     "execution_count": 34,
     "metadata": {},
     "output_type": "execute_result"
    }
   ],
   "source": [
    "a in b"
   ]
  },
  {
   "cell_type": "code",
   "execution_count": 36,
   "metadata": {},
   "outputs": [],
   "source": [
    "a, b = 'xdh', 'orweit'"
   ]
  },
  {
   "cell_type": "code",
   "execution_count": 37,
   "metadata": {},
   "outputs": [
    {
     "data": {
      "text/plain": [
       "False"
      ]
     },
     "execution_count": 37,
     "metadata": {},
     "output_type": "execute_result"
    }
   ],
   "source": [
    "a in b"
   ]
  },
  {
   "cell_type": "code",
   "execution_count": 38,
   "metadata": {},
   "outputs": [],
   "source": [
    "numbers = [0,3,8,-4,9,1]"
   ]
  },
  {
   "cell_type": "code",
   "execution_count": 39,
   "metadata": {},
   "outputs": [
    {
     "data": {
      "text/plain": [
       "3"
      ]
     },
     "execution_count": 39,
     "metadata": {},
     "output_type": "execute_result"
    }
   ],
   "source": [
    "numbers[1]"
   ]
  },
  {
   "cell_type": "code",
   "execution_count": 40,
   "metadata": {},
   "outputs": [
    {
     "data": {
      "text/plain": [
       "1"
      ]
     },
     "execution_count": 40,
     "metadata": {},
     "output_type": "execute_result"
    }
   ],
   "source": [
    "numbers[-1]"
   ]
  },
  {
   "cell_type": "code",
   "execution_count": 42,
   "metadata": {},
   "outputs": [],
   "source": [
    "numbers.append(2)"
   ]
  },
  {
   "cell_type": "code",
   "execution_count": 43,
   "metadata": {},
   "outputs": [
    {
     "data": {
      "text/plain": [
       "[0, 3, 8, -4, 9, 1, 2]"
      ]
     },
     "execution_count": 43,
     "metadata": {},
     "output_type": "execute_result"
    }
   ],
   "source": [
    "numbers"
   ]
  },
  {
   "cell_type": "code",
   "execution_count": 45,
   "metadata": {},
   "outputs": [],
   "source": [
    "numbers.insert(0,5)"
   ]
  },
  {
   "cell_type": "code",
   "execution_count": 46,
   "metadata": {},
   "outputs": [
    {
     "data": {
      "text/plain": [
       "[5, 0, 3, 8, -4, 9, 1, 2]"
      ]
     },
     "execution_count": 46,
     "metadata": {},
     "output_type": "execute_result"
    }
   ],
   "source": [
    "numbers"
   ]
  },
  {
   "cell_type": "code",
   "execution_count": 47,
   "metadata": {},
   "outputs": [],
   "source": [
    "numbers.insert(-1,3)"
   ]
  },
  {
   "cell_type": "code",
   "execution_count": 48,
   "metadata": {},
   "outputs": [
    {
     "data": {
      "text/plain": [
       "[5, 0, 3, 8, -4, 9, 1, 3, 2]"
      ]
     },
     "execution_count": 48,
     "metadata": {},
     "output_type": "execute_result"
    }
   ],
   "source": [
    "numbers"
   ]
  },
  {
   "cell_type": "code",
   "execution_count": 52,
   "metadata": {},
   "outputs": [],
   "source": [
    "numbers.remove(5)"
   ]
  },
  {
   "cell_type": "code",
   "execution_count": 53,
   "metadata": {},
   "outputs": [
    {
     "data": {
      "text/plain": [
       "[0, 3, 8, -4, 9, 1, 3, 2]"
      ]
     },
     "execution_count": 53,
     "metadata": {},
     "output_type": "execute_result"
    }
   ],
   "source": [
    "numbers"
   ]
  },
  {
   "cell_type": "code",
   "execution_count": 54,
   "metadata": {},
   "outputs": [
    {
     "data": {
      "text/plain": [
       "1"
      ]
     },
     "execution_count": 54,
     "metadata": {},
     "output_type": "execute_result"
    }
   ],
   "source": [
    "numbers.pop(-3)"
   ]
  },
  {
   "cell_type": "code",
   "execution_count": 55,
   "metadata": {},
   "outputs": [],
   "source": [
    "def isEven(number):\n",
    "    if number % 2 == 0:\n",
    "        print(f'This number,{number} is even')\n",
    "        return True\n",
    "    else:\n",
    "        print(f'This number, {number} is odd')\n",
    "        return False"
   ]
  },
  {
   "cell_type": "code",
   "execution_count": 56,
   "metadata": {},
   "outputs": [
    {
     "name": "stdout",
     "output_type": "stream",
     "text": [
      "This number,2 is even\n"
     ]
    },
    {
     "data": {
      "text/plain": [
       "True"
      ]
     },
     "execution_count": 56,
     "metadata": {},
     "output_type": "execute_result"
    }
   ],
   "source": [
    "isEven(2)"
   ]
  },
  {
   "cell_type": "code",
   "execution_count": 58,
   "metadata": {},
   "outputs": [
    {
     "name": "stdout",
     "output_type": "stream",
     "text": [
      "This number, 3 is odd\n"
     ]
    },
    {
     "data": {
      "text/plain": [
       "False"
      ]
     },
     "execution_count": 58,
     "metadata": {},
     "output_type": "execute_result"
    }
   ],
   "source": [
    "isEven(3)"
   ]
  },
  {
   "cell_type": "code",
   "execution_count": 60,
   "metadata": {},
   "outputs": [
    {
     "name": "stdout",
     "output_type": "stream",
     "text": [
      "This number,0 is even\n",
      "This number, 3 is odd\n",
      "This number,8 is even\n",
      "This number,-4 is even\n",
      "This number, 9 is odd\n",
      "This number, 3 is odd\n",
      "This number,2 is even\n"
     ]
    },
    {
     "data": {
      "text/plain": [
       "[0, 8, -4, 2]"
      ]
     },
     "execution_count": 60,
     "metadata": {},
     "output_type": "execute_result"
    }
   ],
   "source": [
    "list(filter(isEven, numbers))"
   ]
  },
  {
   "cell_type": "code",
   "execution_count": 62,
   "metadata": {},
   "outputs": [
    {
     "data": {
      "text/plain": [
       "3"
      ]
     },
     "execution_count": 62,
     "metadata": {},
     "output_type": "execute_result"
    }
   ],
   "source": [
    "numbers.index(-4)"
   ]
  },
  {
   "cell_type": "code",
   "execution_count": 65,
   "metadata": {},
   "outputs": [
    {
     "data": {
      "text/plain": [
       "[9, 8, 3, 3, 2, 0, -4]"
      ]
     },
     "execution_count": 65,
     "metadata": {},
     "output_type": "execute_result"
    }
   ],
   "source": [
    "numbers.sort(reverse=True)\n",
    "numbers"
   ]
  },
  {
   "cell_type": "code",
   "execution_count": 8,
   "metadata": {},
   "outputs": [
    {
     "data": {
      "text/plain": [
       "{'A': '今西', 'B': '康平', 'C': '男性', 'D': '東京都', 'E': '海外旅行'}"
      ]
     },
     "execution_count": 8,
     "metadata": {},
     "output_type": "execute_result"
    }
   ],
   "source": [
    "dictionary = {\n",
    "    'A':'今西',\n",
    "    'B':'康平',\n",
    "    'C':'男性',\n",
    "    'D':'東京都',\n",
    "    'E':'海外旅行',\n",
    "}\n",
    "dictionary"
   ]
  },
  {
   "cell_type": "code",
   "execution_count": 3,
   "metadata": {},
   "outputs": [
    {
     "data": {
      "text/plain": [
       "'今西'"
      ]
     },
     "execution_count": 3,
     "metadata": {},
     "output_type": "execute_result"
    }
   ],
   "source": [
    "dictionary.pop('A')"
   ]
  },
  {
   "cell_type": "code",
   "execution_count": 4,
   "metadata": {},
   "outputs": [
    {
     "data": {
      "text/plain": [
       "{'B': '康平', 'C': '男性', 'D': '東京都', 'E': '海外旅行'}"
      ]
     },
     "execution_count": 4,
     "metadata": {},
     "output_type": "execute_result"
    }
   ],
   "source": [
    "dictionary\n"
   ]
  },
  {
   "cell_type": "code",
   "execution_count": 5,
   "metadata": {},
   "outputs": [],
   "source": [
    "dictionary.clear()"
   ]
  },
  {
   "cell_type": "code",
   "execution_count": 6,
   "metadata": {},
   "outputs": [
    {
     "data": {
      "text/plain": [
       "{}"
      ]
     },
     "execution_count": 6,
     "metadata": {},
     "output_type": "execute_result"
    }
   ],
   "source": [
    "dictionary"
   ]
  },
  {
   "cell_type": "code",
   "execution_count": 9,
   "metadata": {},
   "outputs": [
    {
     "data": {
      "text/plain": [
       "dict_keys(['A', 'B', 'C', 'D', 'E'])"
      ]
     },
     "execution_count": 9,
     "metadata": {},
     "output_type": "execute_result"
    }
   ],
   "source": [
    "dictionary.keys()"
   ]
  },
  {
   "cell_type": "code",
   "execution_count": 11,
   "metadata": {},
   "outputs": [
    {
     "data": {
      "text/plain": [
       "True"
      ]
     },
     "execution_count": 11,
     "metadata": {},
     "output_type": "execute_result"
    }
   ],
   "source": [
    "'男性' in dictionary.values()"
   ]
  },
  {
   "cell_type": "code",
   "execution_count": 14,
   "metadata": {},
   "outputs": [
    {
     "name": "stdout",
     "output_type": "stream",
     "text": [
      "キーは,A,値は,今西      \n",
      "キーは,B,値は,康平      \n",
      "キーは,C,値は,男性      \n",
      "キーは,D,値は,東京都      \n",
      "キーは,E,値は,海外旅行      \n"
     ]
    }
   ],
   "source": [
    "for key, value in dictionary.items():\n",
    "    print(f'キーは,{key},値は,{value}      '   )"
   ]
  },
  {
   "cell_type": "code",
   "execution_count": 15,
   "metadata": {},
   "outputs": [
    {
     "data": {
      "text/plain": [
       "{'A': '今西', 'B': '康平', 'C': '男性', 'D': '東京都', 'E': '海外旅行'}"
      ]
     },
     "execution_count": 15,
     "metadata": {},
     "output_type": "execute_result"
    }
   ],
   "source": [
    "dictionary = {\n",
    "    'A':'今西',\n",
    "    'B':'康平',\n",
    "    'C':'男性',\n",
    "    'D':'東京都',\n",
    "    'E':'海外旅行',\n",
    "}\n",
    "dictionary"
   ]
  },
  {
   "cell_type": "code",
   "execution_count": 20,
   "metadata": {},
   "outputs": [
    {
     "ename": "KeyError",
     "evalue": "'F'",
     "output_type": "error",
     "traceback": [
      "\u001b[1;31m---------------------------------------------------------------------------\u001b[0m",
      "\u001b[1;31mKeyError\u001b[0m                                  Traceback (most recent call last)",
      "\u001b[1;32m<ipython-input-20-54aa3b44b60f>\u001b[0m in \u001b[0;36m<module>\u001b[1;34m\u001b[0m\n\u001b[1;32m----> 1\u001b[1;33m \u001b[0mdictionary\u001b[0m\u001b[1;33m[\u001b[0m\u001b[1;34m'F'\u001b[0m\u001b[1;33m]\u001b[0m\u001b[1;33m\u001b[0m\u001b[1;33m\u001b[0m\u001b[0m\n\u001b[0m",
      "\u001b[1;31mKeyError\u001b[0m: 'F'"
     ]
    }
   ],
   "source": [
    "dictionary['F']"
   ]
  },
  {
   "cell_type": "code",
   "execution_count": 21,
   "metadata": {},
   "outputs": [
    {
     "name": "stdout",
     "output_type": "stream",
     "text": [
      "負の値です\n"
     ]
    }
   ],
   "source": [
    "num = -1\n",
    "\n",
    "if num >0:\n",
    "    print('正の値です')\n",
    "elif num<0:\n",
    "    print('負の値です')\n",
    "else:\n",
    "    print('ゼロです')"
   ]
  },
  {
   "cell_type": "code",
   "execution_count": 29,
   "metadata": {},
   "outputs": [
    {
     "name": "stdout",
     "output_type": "stream",
     "text": [
      "負の奇数です\n"
     ]
    }
   ],
   "source": [
    "a = -3\n",
    "\n",
    "if 0 <= a <10 and a%2==0 :\n",
    "    print('一桁の偶数です')\n",
    "elif a<0 and a%2==1:\n",
    "    print('負の奇数です')\n",
    "else:\n",
    "    print('整数です')"
   ]
  },
  {
   "cell_type": "code",
   "execution_count": 32,
   "metadata": {},
   "outputs": [
    {
     "name": "stdout",
     "output_type": "stream",
     "text": [
      "John\n",
      "Kebin\n",
      "Louis\n"
     ]
    }
   ],
   "source": [
    "names = ['John','Kebin','Louis']\n",
    "for name in names:\n",
    "    print(f'{name}')"
   ]
  },
  {
   "cell_type": "code",
   "execution_count": 36,
   "metadata": {},
   "outputs": [
    {
     "name": "stdout",
     "output_type": "stream",
     "text": [
      "10\n",
      "11\n",
      "12\n",
      "13\n",
      "14\n",
      "15\n",
      "16\n",
      "17\n",
      "18\n",
      "19\n",
      "20\n",
      "21\n",
      "22\n",
      "23\n",
      "24\n",
      "25\n",
      "26\n",
      "27\n",
      "28\n",
      "29\n"
     ]
    }
   ],
   "source": [
    "for i in range(10,30):\n",
    "    print(i)"
   ]
  },
  {
   "cell_type": "code",
   "execution_count": 40,
   "metadata": {},
   "outputs": [
    {
     "name": "stdout",
     "output_type": "stream",
     "text": [
      "0\n",
      "1\n",
      "2\n",
      "4\n",
      "5\n",
      "6\n",
      "終了\n"
     ]
    }
   ],
   "source": [
    "for i in range(10):\n",
    "    if i ==3:\n",
    "        continue\n",
    "    print(i)\n",
    "    if i==6:\n",
    "        print('終了')\n",
    "        break\n",
    "            \n"
   ]
  },
  {
   "cell_type": "code",
   "execution_count": 42,
   "metadata": {},
   "outputs": [
    {
     "name": "stdout",
     "output_type": "stream",
     "text": [
      "加藤雄一さん\n",
      "佐藤拓哉さん\n",
      "田中太郎さん\n"
     ]
    }
   ],
   "source": [
    "lasts = ['加藤', '佐藤', '田中']\n",
    "firsts = ['雄一', '拓哉','太郎']\n",
    "for last, first in zip(lasts,firsts):\n",
    "    print(f'{last}{first}さん')"
   ]
  },
  {
   "cell_type": "code",
   "execution_count": 44,
   "metadata": {},
   "outputs": [
    {
     "name": "stdout",
     "output_type": "stream",
     "text": [
      "0番目の加藤です\n",
      "1番目の佐藤です\n",
      "2番目の田中です\n"
     ]
    }
   ],
   "source": [
    "lasts = ['加藤', '佐藤', '田中']\n",
    "for i,last in enumerate(lasts):\n",
    "    print(f'{i}番目の{last}です')"
   ]
  },
  {
   "cell_type": "code",
   "execution_count": 48,
   "metadata": {},
   "outputs": [
    {
     "data": {
      "text/plain": [
       "[0, 2, 4, 6, 8]"
      ]
     },
     "execution_count": 48,
     "metadata": {},
     "output_type": "execute_result"
    }
   ],
   "source": [
    "nums=[]\n",
    "for num in range(5):\n",
    "    nums.append(num*2)\n",
    "nums"
   ]
  },
  {
   "cell_type": "code",
   "execution_count": 50,
   "metadata": {},
   "outputs": [
    {
     "data": {
      "text/plain": [
       "[0, 2, 4, 6, 8]"
      ]
     },
     "execution_count": 50,
     "metadata": {},
     "output_type": "execute_result"
    }
   ],
   "source": [
    "numbers=[2*i for i in range(5)]\n",
    "numbers"
   ]
  },
  {
   "cell_type": "code",
   "execution_count": 62,
   "metadata": {},
   "outputs": [
    {
     "name": "stdout",
     "output_type": "stream",
     "text": [
      "2.5\n"
     ]
    }
   ],
   "source": [
    "num = 4\n",
    "if num ==0 :\n",
    "    print('割れません')\n",
    "else:\n",
    "    print(f'{10/num}')"
   ]
  },
  {
   "cell_type": "code",
   "execution_count": 65,
   "metadata": {},
   "outputs": [
    {
     "name": "stdout",
     "output_type": "stream",
     "text": [
      "division by zero\n"
     ]
    }
   ],
   "source": [
    "num = 0\n",
    "try:\n",
    "    print(f'{10/num}')\n",
    "except ZeroDivisionError as e :\n",
    "    print(e)\n",
    "\n",
    "    "
   ]
  },
  {
   "cell_type": "code",
   "execution_count": 63,
   "metadata": {},
   "outputs": [
    {
     "ename": "ZeroDivisionError",
     "evalue": "division by zero",
     "output_type": "error",
     "traceback": [
      "\u001b[1;31m---------------------------------------------------------------------------\u001b[0m",
      "\u001b[1;31mZeroDivisionError\u001b[0m                         Traceback (most recent call last)",
      "\u001b[1;32m<ipython-input-63-223cfc191fd9>\u001b[0m in \u001b[0;36m<module>\u001b[1;34m\u001b[0m\n\u001b[0;32m      1\u001b[0m \u001b[0mnum\u001b[0m \u001b[1;33m=\u001b[0m \u001b[1;36m0\u001b[0m\u001b[1;33m\u001b[0m\u001b[1;33m\u001b[0m\u001b[0m\n\u001b[1;32m----> 2\u001b[1;33m \u001b[1;36m10\u001b[0m\u001b[1;33m/\u001b[0m\u001b[0mnum\u001b[0m\u001b[1;33m\u001b[0m\u001b[1;33m\u001b[0m\u001b[0m\n\u001b[0m",
      "\u001b[1;31mZeroDivisionError\u001b[0m: division by zero"
     ]
    }
   ],
   "source": [
    "num = 0\n",
    "10/num"
   ]
  },
  {
   "cell_type": "code",
   "execution_count": 100,
   "metadata": {},
   "outputs": [],
   "source": [
    "def divide(a,b):\n",
    "    try:\n",
    "        print(f'{a/b}')\n",
    "    except ZeroDivisionError as e :\n",
    "        pass\n",
    "    except TypeError as e :\n",
    "        pass\n",
    "    else :\n",
    "        print('正常に完了しました')\n",
    "    finally:\n",
    "        print('全処理完了')\n",
    "\n",
    "\n"
   ]
  },
  {
   "cell_type": "code",
   "execution_count": 101,
   "metadata": {},
   "outputs": [
    {
     "name": "stdout",
     "output_type": "stream",
     "text": [
      "全処理完了\n"
     ]
    }
   ],
   "source": [
    "divide(10,0)"
   ]
  },
  {
   "cell_type": "code",
   "execution_count": 34,
   "metadata": {},
   "outputs": [],
   "source": [
    "class Person:\n",
    "    #初期設定\n",
    "    def __init__(self,name,nationality):\n",
    "        self.name = name\n",
    "        self.nationality = nationality\n",
    "    def __call__(self,name):\n",
    "        print()\n",
    "    def say_hello(self):\n",
    "        print(f'こんにちは、私の国籍は、{self.nationality}です')\n",
    "            \n",
    "    def __say_my_name(self):\n",
    "        print(f'私の名前は{self.name}です')"
   ]
  },
  {
   "cell_type": "code",
   "execution_count": 35,
   "metadata": {},
   "outputs": [],
   "source": [
    "imanishi = Person('今西','Japan')"
   ]
  },
  {
   "cell_type": "code",
   "execution_count": 36,
   "metadata": {},
   "outputs": [
    {
     "data": {
      "text/plain": [
       "'Japan'"
      ]
     },
     "execution_count": 36,
     "metadata": {},
     "output_type": "execute_result"
    }
   ],
   "source": [
    "person.nationality"
   ]
  },
  {
   "cell_type": "code",
   "execution_count": 37,
   "metadata": {},
   "outputs": [
    {
     "name": "stdout",
     "output_type": "stream",
     "text": [
      "私の名前は今西です\n"
     ]
    }
   ],
   "source": [
    "imanishi.say_my_name()"
   ]
  },
  {
   "cell_type": "code",
   "execution_count": 38,
   "metadata": {},
   "outputs": [],
   "source": [
    "class Kid(Person):\n",
    "    def say_hello(self,age):\n",
    "        print(f'私の名前は、{self.name}です。年齢は{age}歳です')"
   ]
  },
  {
   "cell_type": "code",
   "execution_count": 40,
   "metadata": {},
   "outputs": [],
   "source": [
    "kid =Kid('けんすけ','Japan')"
   ]
  },
  {
   "cell_type": "code",
   "execution_count": 41,
   "metadata": {},
   "outputs": [
    {
     "name": "stdout",
     "output_type": "stream",
     "text": [
      "私の名前は、けんすけです。年齢は12歳です\n"
     ]
    }
   ],
   "source": [
    "kid.say_hello(12)"
   ]
  },
  {
   "cell_type": "code",
   "execution_count": null,
   "metadata": {},
   "outputs": [],
   "source": []
  }
 ],
 "metadata": {
  "kernelspec": {
   "display_name": "Python 3",
   "language": "python",
   "name": "python3"
  },
  "language_info": {
   "codemirror_mode": {
    "name": "ipython",
    "version": 3
   },
   "file_extension": ".py",
   "mimetype": "text/x-python",
   "name": "python",
   "nbconvert_exporter": "python",
   "pygments_lexer": "ipython3",
   "version": "3.8.5"
  }
 },
 "nbformat": 4,
 "nbformat_minor": 5
}
